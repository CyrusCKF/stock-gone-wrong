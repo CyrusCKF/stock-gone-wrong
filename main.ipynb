{
 "cells": [
  {
   "cell_type": "markdown",
   "id": "71c011f9",
   "metadata": {},
   "source": [
    "## ===== Part 1: Analyze stock trends =====\n",
    "\n",
    "Change parameter below"
   ]
  },
  {
   "cell_type": "code",
   "execution_count": 1,
   "id": "5dbe85d3",
   "metadata": {},
   "outputs": [],
   "source": [
    "TICKER = \"MSFT\"\n",
    "PERIOD = \"6mo\"  # one of 3mo, 6mo, 1y, 2y"
   ]
  },
  {
   "cell_type": "code",
   "execution_count": 2,
   "id": "f5da50a0",
   "metadata": {},
   "outputs": [
    {
     "data": {
      "text/html": [
       "<div>\n",
       "<style scoped>\n",
       "    .dataframe tbody tr th:only-of-type {\n",
       "        vertical-align: middle;\n",
       "    }\n",
       "\n",
       "    .dataframe tbody tr th {\n",
       "        vertical-align: top;\n",
       "    }\n",
       "\n",
       "    .dataframe thead th {\n",
       "        text-align: right;\n",
       "    }\n",
       "</style>\n",
       "<table border=\"1\" class=\"dataframe\">\n",
       "  <thead>\n",
       "    <tr style=\"text-align: right;\">\n",
       "      <th></th>\n",
       "      <th>Open</th>\n",
       "      <th>High</th>\n",
       "      <th>Low</th>\n",
       "      <th>Close</th>\n",
       "      <th>Volume</th>\n",
       "      <th>Dividends</th>\n",
       "      <th>Stock Splits</th>\n",
       "    </tr>\n",
       "    <tr>\n",
       "      <th>Date</th>\n",
       "      <th></th>\n",
       "      <th></th>\n",
       "      <th></th>\n",
       "      <th></th>\n",
       "      <th></th>\n",
       "      <th></th>\n",
       "      <th></th>\n",
       "    </tr>\n",
       "  </thead>\n",
       "  <tbody>\n",
       "    <tr>\n",
       "      <th>2025-01-03 00:00:00-05:00</th>\n",
       "      <td>419.467282</td>\n",
       "      <td>422.405996</td>\n",
       "      <td>417.933202</td>\n",
       "      <td>421.728607</td>\n",
       "      <td>16662900</td>\n",
       "      <td>0.0</td>\n",
       "      <td>0.0</td>\n",
       "    </tr>\n",
       "    <tr>\n",
       "      <th>2025-01-06 00:00:00-05:00</th>\n",
       "      <td>426.360784</td>\n",
       "      <td>432.656586</td>\n",
       "      <td>423.850447</td>\n",
       "      <td>426.211365</td>\n",
       "      <td>20573600</td>\n",
       "      <td>0.0</td>\n",
       "      <td>0.0</td>\n",
       "    </tr>\n",
       "    <tr>\n",
       "      <th>2025-01-07 00:00:00-05:00</th>\n",
       "      <td>427.356962</td>\n",
       "      <td>429.000637</td>\n",
       "      <td>419.188356</td>\n",
       "      <td>420.752350</td>\n",
       "      <td>18139100</td>\n",
       "      <td>0.0</td>\n",
       "      <td>0.0</td>\n",
       "    </tr>\n",
       "    <tr>\n",
       "      <th>2025-01-08 00:00:00-05:00</th>\n",
       "      <td>421.838197</td>\n",
       "      <td>425.334764</td>\n",
       "      <td>419.925568</td>\n",
       "      <td>422.933990</td>\n",
       "      <td>15054600</td>\n",
       "      <td>0.0</td>\n",
       "      <td>0.0</td>\n",
       "    </tr>\n",
       "    <tr>\n",
       "      <th>2025-01-10 00:00:00-05:00</th>\n",
       "      <td>423.003698</td>\n",
       "      <td>423.083378</td>\n",
       "      <td>413.430488</td>\n",
       "      <td>417.345459</td>\n",
       "      <td>20201100</td>\n",
       "      <td>0.0</td>\n",
       "      <td>0.0</td>\n",
       "    </tr>\n",
       "  </tbody>\n",
       "</table>\n",
       "</div>"
      ],
      "text/plain": [
       "                                 Open        High         Low       Close  \\\n",
       "Date                                                                        \n",
       "2025-01-03 00:00:00-05:00  419.467282  422.405996  417.933202  421.728607   \n",
       "2025-01-06 00:00:00-05:00  426.360784  432.656586  423.850447  426.211365   \n",
       "2025-01-07 00:00:00-05:00  427.356962  429.000637  419.188356  420.752350   \n",
       "2025-01-08 00:00:00-05:00  421.838197  425.334764  419.925568  422.933990   \n",
       "2025-01-10 00:00:00-05:00  423.003698  423.083378  413.430488  417.345459   \n",
       "\n",
       "                             Volume  Dividends  Stock Splits  \n",
       "Date                                                          \n",
       "2025-01-03 00:00:00-05:00  16662900        0.0           0.0  \n",
       "2025-01-06 00:00:00-05:00  20573600        0.0           0.0  \n",
       "2025-01-07 00:00:00-05:00  18139100        0.0           0.0  \n",
       "2025-01-08 00:00:00-05:00  15054600        0.0           0.0  \n",
       "2025-01-10 00:00:00-05:00  20201100        0.0           0.0  "
      ]
     },
     "execution_count": 2,
     "metadata": {},
     "output_type": "execute_result"
    }
   ],
   "source": [
    "import yfinance as yf\n",
    "\n",
    "\n",
    "ticker = yf.Ticker(TICKER)\n",
    "symbol = ticker.info[\"symbol\"]\n",
    "name = ticker.info[\"displayName\"]\n",
    "df = ticker.history(period=PERIOD)\n",
    "df.head()"
   ]
  },
  {
   "cell_type": "code",
   "execution_count": 3,
   "id": "d32a87a9",
   "metadata": {},
   "outputs": [],
   "source": [
    "\"\"\"Partition stock trends into major changes\"\"\"\n",
    "\n",
    "import numpy as np\n",
    "\n",
    "from src.stock_gone_wrong.signal import (find_largest_changes,\n",
    "                                         find_stock_peaks, remove_saddle)\n",
    "\n",
    "data = df[\"Close\"].to_numpy()\n",
    "maxima = find_stock_peaks(data, window=2)\n",
    "minima = find_stock_peaks(-data, window=2)\n",
    "\n",
    "extrema = np.unique(np.concat(([0, data.size - 1], minima, maxima)))\n",
    "trends = remove_saddle(data, extrema)\n",
    "changes = find_largest_changes(data, trends, 5)"
   ]
  },
  {
   "cell_type": "code",
   "execution_count": 10,
   "id": "fc9ceb14",
   "metadata": {},
   "outputs": [
    {
     "data": {
      "image/png": "[encoded data removed]",
      "text/plain": [
       "<Figure size 1000x300 with 1 Axes>"
      ]
     },
     "metadata": {},
     "output_type": "display_data"
    }
   ],
   "source": [
    "\"\"\"Visualize the partition results, and highlight major upturns/downturns\"\"\"\n",
    "\n",
    "from matplotlib import pyplot as plt\n",
    "\n",
    "\n",
    "plt.figure(figsize=(10, 3))\n",
    "mid_y = (data.min() + data.max()) / 2\n",
    "bbox = {\n",
    "    \"facecolor\": \"#ECF5F5\",\n",
    "    \"edgecolor\": \"black\",\n",
    "    \"boxstyle\": \"round,pad=0.3\",\n",
    "}\n",
    "for i, (x, y) in enumerate(changes):\n",
    "    plt.axvspan(\n",
    "        df.index[x],\n",
    "        df.index[y],\n",
    "        facecolor=\"lightgray\",\n",
    "        edgecolor=\"#434747\",\n",
    "        alpha=0.5,\n",
    "        zorder=-10,\n",
    "    )\n",
    "    mid_x = df.index[x] + (df.index[y] - df.index[x]) / 2\n",
    "    plt.text(mid_x, mid_y, f\"{i}\", ha=\"center\", va=\"center\", zorder=20, bbox=bbox)\n",
    "plt.plot(df[\"Close\"], label=\"Close\")\n",
    "plt.plot(df[\"Close\"].iloc[trends], linestyle=\":\", label=\"Trend\")\n",
    "plt.scatter(\n",
    "    df.index[minima], data[minima], s=15, color=\"#BC2020\", zorder=10, label=\"Trough\"\n",
    ")\n",
    "plt.scatter(\n",
    "    df.index[maxima], data[maxima], s=15, color=\"#42BC20\", zorder=10, label=\"Peak\"\n",
    ")\n",
    "plt.title(f\"{symbol} Stock Trend\")\n",
    "plt.legend()\n",
    "plt.show()"
   ]
  },
  {
   "cell_type": "markdown",
   "id": "43c76d88",
   "metadata": {},
   "source": [
    "## ===== Part 2: Explain stock event =====\n",
    "\n",
    "Change parameter below"
   ]
  },
  {
   "cell_type": "code",
   "execution_count": null,
   "id": "c64db80b",
   "metadata": {},
   "outputs": [],
   "source": [
    "CHANGE = 3  # refer to the graph\n",
    "MODEL = \"granite3.2:8b\"  # one of installed ollama models, for question answering\n",
    "EMBEDDING = \"llama3.2:1b\"  # one of installed ollama models, for embedding"
   ]
  },
  {
   "cell_type": "code",
   "execution_count": 12,
   "id": "6d1e8d84",
   "metadata": {},
   "outputs": [
    {
     "name": "stdout",
     "output_type": "stream",
     "text": [
      "Using ollama models successfully\n"
     ]
    }
   ],
   "source": [
    "from langchain_ollama import ChatOllama, OllamaEmbeddings\n",
    "\n",
    "try:\n",
    "    chat = ChatOllama(model=MODEL)\n",
    "    embeddings = OllamaEmbeddings(model=EMBEDDING)\n",
    "    response = chat.stream(\"Who was the first man on the moon?\")\n",
    "    for r in response:\n",
    "        break\n",
    "    embeddings.embed_query(\"Stock price analysis\")\n",
    "    print(\"Using ollama models successfully\")\n",
    "except:\n",
    "    print(\n",
    "        \"Error in using ollama model. Please make sure it is opened and the model is available\"\n",
    "    )"
   ]
  },
  {
   "cell_type": "code",
   "execution_count": 13,
   "id": "b0a3ef35",
   "metadata": {},
   "outputs": [
    {
     "name": "stdout",
     "output_type": "stream",
     "text": [
      "Found 10 news\n"
     ]
    }
   ],
   "source": [
    "\"\"\"Search related news on Google\"\"\"\n",
    "\n",
    "from typing import cast\n",
    "\n",
    "from pandas import Timestamp\n",
    "from stock_gone_wrong.search_news import search_news\n",
    "\n",
    "\n",
    "change = changes[CHANGE]\n",
    "start_date = cast(Timestamp, df.index[change[0]])\n",
    "end_date = cast(Timestamp, df.index[change[1]])\n",
    "search_results = search_news(f\"{name}({symbol}) stock price\", start_date, end_date)\n",
    "print(f\"Found {len(search_results)} news\")"
   ]
  },
  {
   "cell_type": "code",
   "execution_count": 14,
   "id": "98e3b9cc",
   "metadata": {},
   "outputs": [
    {
     "name": "stderr",
     "output_type": "stream",
     "text": [
      "Scrape websites: 100%|██████████| 10/10 [00:09<00:00,  1.05it/s]\n",
      "Create vector store: 100%|██████████| 85/85 [01:18<00:00,  1.08it/s]\n"
     ]
    }
   ],
   "source": [
    "from stock_gone_wrong.agent import load_links\n",
    "\n",
    "links: list[str] = [r.url for r in search_results]\n",
    "vector_store = load_links(links, embeddings)"
   ]
  },
  {
   "cell_type": "code",
   "execution_count": 15,
   "id": "888129f6",
   "metadata": {},
   "outputs": [
    {
     "name": "stdout",
     "output_type": "stream",
     "text": [
      "Event: MSFT rises from 358.46 in 2025-04-21 to 458.87 in 2025-05-19\n",
      "Query: Why does the stock price of Microsoft (MSFT) rise?\n",
      "Sources: ['https://www.tastylive.com/news-insights/microsoft-msft-earnings-preview-ai-growth-market-uncertainty', 'https://www.nasdaq.com/articles/microsoft-msft-beats-stock-market-upswing-what-investors-need-know-0', 'https://www.investopedia.com/why-microsoft-stock-had-one-of-its-best-post-earnings-days-in-a-decade-11726613']\n",
      "Response:\n",
      "Microsoft's stock price rise is attributed to its strong quarterly results that surpassed Wall Street estimates. The company's cloud-computing revenue, particularly from its AI and Azure platform, saw significant growth. Additionally, upbeat changes in analysts' estimates indicate a favorable outlook on Microsoft's business health and profitability, contributing to the stock price increase."
     ]
    }
   ],
   "source": [
    "from stock_gone_wrong.agent import model_qa\n",
    "\n",
    "verb = \"rise\" if data[change[0]] < data[change[1]] else \"drop\"\n",
    "query = f\"Why does the stock price of {name} ({symbol}) {verb}?\"\n",
    "response, similar_docs = model_qa(chat, query, vector_store)\n",
    "\n",
    "start_str = start_date.strftime(\"%Y-%m-%d\")\n",
    "end_str = end_date.strftime(\"%Y-%m-%d\")\n",
    "print(\n",
    "    f\"Event: {symbol} {verb}s from {data[change[0]]:.2f} in {start_str} to {data[change[1]]:.2f} in {end_str}\"\n",
    ")\n",
    "print(\"Query:\", query)\n",
    "source_urls = list(set([d.metadata[\"source\"] for d in similar_docs]))\n",
    "print(\"Sources:\", source_urls)\n",
    "print(\"Response:\", end=\"\")\n",
    "for r in response:\n",
    "    print(r.content, end=\"\")"
   ]
  }
 ],
 "metadata": {
  "kernelspec": {
   "display_name": ".venv",
   "language": "python",
   "name": "python3"
  },
  "language_info": {
   "codemirror_mode": {
    "name": "ipython",
    "version": 3
   },
   "file_extension": ".py",
   "mimetype": "text/x-python",
   "name": "python",
   "nbconvert_exporter": "python",
   "pygments_lexer": "ipython3",
   "version": "3.10.11"
  }
 },
 "nbformat": 4,
 "nbformat_minor": 5
}
