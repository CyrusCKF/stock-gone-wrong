{
 "cells": [
  {
   "cell_type": "code",
   "execution_count": null,
   "id": "f5da50a0",
   "metadata": {},
   "outputs": [],
   "source": [
    "import yfinance as yf\n",
    "\n",
    "\n",
    "ticker = yf.Ticker(\"TSLA\")\n",
    "symbol = ticker.info[\"symbol\"]\n",
    "name = ticker.info[\"displayName\"]\n",
    "df = ticker.history(period=\"1y\")\n",
    "df.head()"
   ]
  },
  {
   "cell_type": "code",
   "execution_count": null,
   "id": "d32a87a9",
   "metadata": {},
   "outputs": [],
   "source": [
    "\"\"\"Analyze stock trends to partition it into multiple parts\"\"\"\n",
    "\n",
    "import numpy as np\n",
    "\n",
    "from src.stock_gone_wrong.signal import (find_largest_changes,\n",
    "                                         find_stock_peaks, remove_saddle)\n",
    "\n",
    "data = df[\"Close\"].to_numpy()\n",
    "maxima = find_stock_peaks(data, 2)\n",
    "minima = find_stock_peaks(-data, 2)\n",
    "\n",
    "extrema = np.unique(np.concat(([0, data.size - 1], minima, maxima)))\n",
    "trends = remove_saddle(data, extrema)\n",
    "changes = find_largest_changes(data, trends, 5)"
   ]
  },
  {
   "cell_type": "code",
   "execution_count": null,
   "id": "fc9ceb14",
   "metadata": {},
   "outputs": [],
   "source": [
    "\"\"\"Visualize the partition results, and highlight major upturns/downturns\"\"\"\n",
    "\n",
    "from matplotlib import pyplot as plt\n",
    "\n",
    "\n",
    "plt.figure(figsize=(10, 3))\n",
    "mid_y = (data.min() + data.max()) / 2\n",
    "bbox = {\n",
    "    \"facecolor\": \"#ECF5F5\",\n",
    "    \"edgecolor\": \"black\",\n",
    "    \"boxstyle\": \"round,pad=0.3\",\n",
    "}\n",
    "for i, (x, y) in enumerate(changes):\n",
    "    plt.axvspan(\n",
    "        df.index[x],\n",
    "        df.index[y],\n",
    "        facecolor=\"lightgray\",\n",
    "        edgecolor=\"#434747\",\n",
    "        alpha=0.5,\n",
    "        zorder=-10,\n",
    "    )\n",
    "    mid_x = df.index[x] + (df.index[y] - df.index[x]) / 2\n",
    "    plt.text(mid_x, mid_y, f\"{i+1}\", ha=\"center\", va=\"center\", zorder=20, bbox=bbox)\n",
    "plt.plot(df[\"Close\"], label=\"Close\")\n",
    "plt.plot(df[\"Close\"].iloc[trends], linestyle=\":\", label=\"Trend\")\n",
    "plt.scatter(\n",
    "    df.index[minima], data[minima], s=15, color=\"#BC2020\", zorder=10, label=\"Trough\"\n",
    ")\n",
    "plt.scatter(\n",
    "    df.index[maxima], data[maxima], s=15, color=\"#42BC20\", zorder=10, label=\"Peak\"\n",
    ")\n",
    "plt.title(f\"{symbol} Stock Trend\")\n",
    "plt.legend()\n",
    "plt.show()"
   ]
  },
  {
   "cell_type": "code",
   "execution_count": null,
   "id": "b0a3ef35",
   "metadata": {},
   "outputs": [],
   "source": [
    "from stock_gone_wrong.search_news import search_news\n",
    "\n",
    "\n",
    "change = changes[0]\n",
    "search_results = search_news(\n",
    "    f\"{name}({symbol}) stock price\", df.index[change[0]], df.index[change[1]]\n",
    ")\n",
    "for r in search_results[:5]:\n",
    "    print(r)"
   ]
  },
  {
   "cell_type": "code",
   "execution_count": null,
   "id": "6d1e8d84",
   "metadata": {},
   "outputs": [],
   "source": [
    "from langchain_ollama import ChatOllama, OllamaEmbeddings\n",
    "\n",
    "try:\n",
    "    chat = ChatOllama(model=\"granite3.2:8b\")\n",
    "    embeddings = OllamaEmbeddings(model=\"granite3.2:8b\")\n",
    "    response = chat.stream(\"Who was the first man on the moon?\")\n",
    "    for r in response:\n",
    "        print(r.content, end=\"\")\n",
    "except:\n",
    "    print(\n",
    "        \"Error in using ollama model. Please make sure it is opened and the model is available\"\n",
    "    )"
   ]
  },
  {
   "cell_type": "code",
   "execution_count": null,
   "id": "98e3b9cc",
   "metadata": {},
   "outputs": [],
   "source": [
    "from stock_gone_wrong.agent import load_links\n",
    "\n",
    "links: list[str] = [r.url for r in search_results]\n",
    "vectorstore = load_links(links, embeddings)"
   ]
  },
  {
   "cell_type": "code",
   "execution_count": null,
   "id": "888129f6",
   "metadata": {},
   "outputs": [],
   "source": [
    "from stock_gone_wrong.agent import model_qa\n",
    "\n",
    "verb = \"rise\" if data[change[0]] < data[change[1]] else \"drop\"\n",
    "query = f\"Why does the stock price of {name}({symbol}) {verb}?\"\n",
    "response, similar_docs = model_qa(chat, query, vectorstore)\n",
    "\n",
    "print(\n",
    "    f\"Event: {ticker} {verb}s from {data[change[0]]} in {df.index[change[0]]} to {data[change[1]]} in {df.index[change[1]]}\"\n",
    ")\n",
    "print(\"Query:\", query)\n",
    "print(\"Response:\", response)\n",
    "print(\"\\nSources:\")\n",
    "for doc in similar_docs:\n",
    "    print(\"-\", doc.metadata)"
   ]
  }
 ],
 "metadata": {
  "kernelspec": {
   "display_name": ".venv",
   "language": "python",
   "name": "python3"
  },
  "language_info": {
   "codemirror_mode": {
    "name": "ipython",
    "version": 3
   },
   "file_extension": ".py",
   "mimetype": "text/x-python",
   "name": "python",
   "nbconvert_exporter": "python",
   "pygments_lexer": "ipython3",
   "version": "3.10.11"
  }
 },
 "nbformat": 4,
 "nbformat_minor": 5
}
